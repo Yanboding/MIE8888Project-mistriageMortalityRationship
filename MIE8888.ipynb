{
  "nbformat": 4,
  "nbformat_minor": 0,
  "metadata": {
    "colab": {
      "name": "MIE8888.ipynb",
      "provenance": [],
      "collapsed_sections": [],
      "toc_visible": true
    },
    "kernelspec": {
      "name": "python3",
      "display_name": "Python 3"
    }
  },
  "cells": [
    {
      "cell_type": "code",
      "metadata": {
        "id": "FHgtnKcMJQp0"
      },
      "source": [
        "import SimFunctions\n",
        "import SimRNG \n",
        "import SimClasses\n",
        "import numpy as np\n",
        "import math\n",
        "import matplotlib.pyplot as plt\n",
        "from scipy.integrate import odeint, quad\n",
        "from scipy.special import gamma\n",
        "from pprint import pprint"
      ],
      "execution_count": 2,
      "outputs": []
    },
    {
      "cell_type": "markdown",
      "metadata": {
        "id": "_T6nj5S1sHWD"
      },
      "source": [
        "# OED solver for Virtual Waiting Time and Mortality"
      ]
    },
    {
      "cell_type": "markdown",
      "metadata": {
        "id": "qXuJJze8hc6K"
      },
      "source": [
        "Defining $\\rho_k(t)=\\frac{\\lambda_k(t)}{\\mu_k(t)}$ to be the offered load of the $k$th job class at the time $t$ for $k= 1...K$.  \n",
        "Assumption (A1). For each job class $k \\in \\{1,...,K\\}$, the deadline distribution $F_k$ is continuous. Furthermore, $F_k(t) = 0 \\, \\forall t \\leq 0$ and $\\lim_{t\\to\\infty} F(t)=1$.  \n",
        "Consider the unbounded virtual waiting time, $\\tilde{W}: \\mathbb R^+ \\rightarrow \\mathbb R$, that can have value less than zero. We may now state the main method to calculate the virtual waiting time, $W(t)$.  \n",
        "Theorem 1: Under Assumption(A1), if $W(s)$ is the virtual waiting time at the time $s$, and $\\tilde{W}(t)$ is monotomic in the interval $[s,u]$, then $\\tilde{W}(t)$ is the unique solution of \n",
        "$$\n",
        "\\begin{cases}\n",
        "\\tilde{W}'(t)=-1+\\sum_{k}\\rho_k(t)G_k(\\tilde{W}(t)) \\\\\n",
        "\\tilde{W}(0) = W(s)\n",
        "\\end{cases}\n",
        "$$\n",
        "Also, the virtual waiting time in the intervial $[s,u]$ is\n",
        "$$W(t) = max(0, \\tilde{W}(t))$$"
      ]
    },
    {
      "cell_type": "markdown",
      "metadata": {
        "id": "ciB_ViJQdgNK"
      },
      "source": [
        "$\\lambda(t)=\n",
        "\\begin{cases}\n",
        "\\frac{1}{50}t & \\text{if } 0 \\leq t < 100 \\\\\n",
        "-\\frac{1}{50}(t-200) & \\text{if } 100\\leq t < 200 \\\\\n",
        "\\frac{1}{50}(t-300) & \\text{if } 300 \\leq t < 400 \\\\\n",
        "-\\frac{1}{50}(t-500) & \\text{if } 400\\leq t < 500 \\\\\n",
        "0 & \\text{otherwise}\n",
        "\\end{cases}$  \n",
        "Because $\\Lambda(t)=\\int_{0}^{t}\\lambda(t)$,  \n",
        "$\\Lambda(t)=\n",
        "\\begin{cases}\n",
        "\\frac{1}{100}t^2 & \\text{if } 0 \\leq t < 100 \\\\\n",
        "-\\frac{1}{100}(t-200)^2+200 & \\text{if } 100\\leq t < 200 \\\\\n",
        "200 & \\text{if } 200 \\leq t < 300 \\\\\n",
        "\\frac{1}{100}(t-300)^2 + 200 & \\text{if } 300 \\leq t < 400 \\\\\n",
        "-\\frac{1}{100}(t-500)^2 + 400 & \\text{if } 400\\leq t < 500 \\\\\n",
        "400 & \\text{if } t \\geq 500\n",
        "\\end{cases}$  \n",
        "Let $\\Lambda^{-1}(t)$ be the inverse of $\\Lambda(t)$  \n",
        "$\\Lambda^{-1}(t)=\n",
        "\\begin{cases}\n",
        "10\\sqrt{t} & \\text{if } 0 \\leq t < 100 \\\\\n",
        "-10\\sqrt{-t+200}+200 & \\text{if } 100\\leq t < 200 \\\\\n",
        "10\\sqrt{t-200}+300 & \\text{if } 200 < t < 300 \\\\\n",
        "-10\\sqrt{-t+400}+500 & \\text{if } 300 \\leq t < 400 \n",
        "\\end{cases}$"
      ]
    },
    {
      "cell_type": "markdown",
      "metadata": {
        "id": "m6B6GLfxkZCr"
      },
      "source": [
        "# Arrival Rate Plot"
      ]
    },
    {
      "cell_type": "code",
      "metadata": {
        "id": "rz0LLuM5CAc7"
      },
      "source": [
        "def arrivalRatePlot(x_range, y_range, arrivalRate, cumArrivalRate, arrivalRateInverse):\n",
        "    t = np.linspace(0,x_range,x_range+1)\n",
        "    arrivalRate = np.vectorize(arrivalRate)\n",
        "    cumArrivalRate = np.vectorize(cumArrivalRate)\n",
        "    arrivalRateInverse = np.vectorize(arrivalRateInverse)\n",
        "    fig, axs = plt.subplots(1,2, figsize=(20, 10))\n",
        "    axs[0].plot(t, arrivalRate(t), '-', label='lambda(t)')\n",
        "    axs[1].plot(t, cumArrivalRate(t), '-', label='Lambda(t)')\n",
        "    t = np.linspace(0,y_range, y_range+1)\n",
        "    axs[1].plot(t, arrivalRateInverse(t), '-', label='Lambda^-1(t)')\n",
        "\n",
        "    plt.legend()\n",
        "    plt.show()"
      ],
      "execution_count": 36,
      "outputs": []
    },
    {
      "cell_type": "markdown",
      "metadata": {
        "id": "RmlxBBZfgnit"
      },
      "source": [
        "# Carmel Arrival Rate"
      ]
    },
    {
      "cell_type": "code",
      "metadata": {
        "id": "9WGDFgsNgzBw"
      },
      "source": [
        "def carmelArrivalRate(t):\n",
        "    if t<100:\n",
        "        return 1/50 * t\n",
        "    elif 100<=t <= 200:\n",
        "        return -1/50 *(t - 200)\n",
        "    elif 300<t<400:\n",
        "        return 1/50 * (t-300)\n",
        "    elif 400<=t<500:\n",
        "        return -1/50 *(t- 500)\n",
        "    else:\n",
        "        return 0\n",
        "\n",
        "def carmelCumArrivalRate(t):\n",
        "    if t < 100:\n",
        "        return 1/100*t**2\n",
        "    elif 100<=t<200:\n",
        "        return -1/100 *(t-200)**2 + 200\n",
        "    elif 200<=t<300:\n",
        "        return 200\n",
        "    elif 300<=t<400:\n",
        "        return 1/100*(t-300)**2 + 200\n",
        "    elif 400<=t<500:\n",
        "        return -1/100 *(t-500)**2 + 400\n",
        "    else:\n",
        "       return 400\n",
        "\n",
        "def carmelArrivalRateInverse(t):\n",
        "    if t<100:\n",
        "        return 10*np.sqrt(t)\n",
        "        #y=1/100t^2\n",
        "        #100t\n",
        "    elif 100<=t<=200:\n",
        "        return -10*np.sqrt(-t+200)+200\n",
        "        #-1/100*t**2+4*t-200\n",
        "    elif 200<t<300:\n",
        "        return 10*np.sqrt(t-200)+300\n",
        "        #y=1/100(t-300)^2 + 200\n",
        "    elif 300<=t<=400:\n",
        "        return -10*np.sqrt(-t+400)+500\n",
        "arrivalRatePlot(500, 400, carmelArrivalRate, carmelCumArrivalRate, carmelArrivalRateInverse)"
      ],
      "execution_count": 34,
      "outputs": []
    },
    {
      "cell_type": "markdown",
      "metadata": {
        "id": "NCG6pn91gbib"
      },
      "source": [
        "# Concave Arrival Rate"
      ]
    },
    {
      "cell_type": "code",
      "metadata": {
        "colab": {
          "base_uri": "https://localhost:8080/",
          "height": 592
        },
        "id": "UuhjE26sc8l_",
        "outputId": "780c454c-5816-48e9-c806-73d3bf3d9e7a"
      },
      "source": [
        "def concaveArrivalRate(t):\n",
        "    if t <200:\n",
        "        return -1/50 *(t - 200)\n",
        "    elif 300<t<=500:\n",
        "        return 1/50 * (t-300)\n",
        "    else:\n",
        "        return 0\n",
        "\n",
        "def concaveCumArrivalRate(t):\n",
        "    if t<200:\n",
        "        return -1/100 *(t-200)**2 +400\n",
        "    elif 200<=t<300:\n",
        "        return 400\n",
        "    elif 300<=t<=500:\n",
        "        return 1/100*(t-300)**2 + 400\n",
        "    else:\n",
        "       return 800\n",
        "\n",
        "def concaveArrivalRateInverse(t):\n",
        "    if t<=400:\n",
        "        return -10*np.sqrt(-t+400)+200\n",
        "        #-1/100*t**2+4*t-200\n",
        "    elif 400<t<=800:\n",
        "        return 10*np.sqrt(t-400)+300\n",
        "        #y=1/100(t-300)^2 + 200\n",
        "arrivalRatePlot(500, 800, concaveArrivalRate, concaveCumArrivalRate, concaveArrivalRateInverse)"
      ],
      "execution_count": 37,
      "outputs": [
        {
          "output_type": "display_data",
          "data": {
            "image/png": "[encoded data removed]",
            "text/plain": [
              "<Figure size 1440x720 with 2 Axes>"
            ]
          },
          "metadata": {
            "tags": [],
            "needs_background": "light"
          }
        }
      ]
    },
    {
      "cell_type": "code",
      "metadata": {
        "id": "2y9G58ZRQOv6"
      },
      "source": [
        "def ExpoCDF(t, rate):\n",
        "    if t<0:\n",
        "      return 1\n",
        "    return np.exp(-rate*t)\n",
        "\n",
        "def thinningArrivalRate(prob, arrivalRate):\n",
        "    def Lambda_k(t):\n",
        "        Lambda = arrivalRate(t)\n",
        "        return Lambda*prob\n",
        "    return Lambda_k\n",
        "\n",
        "\n",
        "def Mu_k(t):\n",
        "    return np.array([1,1])\n",
        "\n",
        "def VW_model(z, t, Lambda, Mu, Gamma, CDF):\n",
        "    #print(prev_w, prev_t)\n",
        "    w, m = z\n",
        "    Gs = np.array([CDF(w, g) for g in Gamma])\n",
        "    Fs = 1 - Gs\n",
        "    Lambdas = Lambda(t)\n",
        "    rhos = Lambdas/Mu(t)\n",
        "    dwdt = -1 + np.sum(rhos*Gs)\n",
        "    dmdt = np.sum(Fs*Lambdas.T, axis=0)\n",
        "    return [dwdt, dmdt]\n",
        "\n",
        "def model(z, t, Lambda, Mu, Gamma, CDF):\n",
        "    w, m = z\n",
        "    Gs = np.array([CDF(w, g) for g in Gamma])\n",
        "    Fs = 1 - Gs\n",
        "    Lambdas = Lambda(t)\n",
        "    rhos = Lambdas/Mu(t)\n",
        "    dwdt = -1 + np.sum(rhos*Gs)\n",
        "    dmdt = np.sum(Fs*Lambdas.T, axis=0)\n",
        "    return [dwdt, dmdt]\n",
        "\n",
        "\n",
        "def mortality_model(waits, t, G, gammas, arrivalRate, p_join):\n",
        "    CDF = np.vectorize(G)\n",
        "    Gs = np.array([CDF(waits, g) for g in gammas])\n",
        "    Fs = 1 - Gs\n",
        "    AR = np.vectorize(arrivalRate)\n",
        "    Lambdas = AR(t).reshape(-1,1)*p_join\n",
        "    return np.cumsum(np.sum(Fs*Lambdas.T, axis=0))\n",
        "\n",
        "def mortality_mistrage_relation(overtriage, undertriage, Class1Prob, arrivalRate, Mu_k, abandonMeans, X, T):\n",
        "    # P(X=1), P(X=2)\n",
        "    p_X = np.array([Class1Prob, 1-Class1Prob])\n",
        "    # P(T=1|X=1), P(T=1|X=2)\n",
        "    p_condition = np.array([1-undertriage, overtriage])\n",
        "    # P(T=1, X=1), P(T=1, X=2)\n",
        "    p_join = p_X * p_condition\n",
        "    # lambda_\n",
        "    Lambda_k = thinningArrivalRate(p_join, arrivalRate)\n",
        "    #gamma_k\n",
        "    gammas = 1/np.array(abandonMeans)\n",
        "    # linspace\n",
        "    t = np.linspace(0,T,T+1)\n",
        "    # initial condition\n",
        "    z0 = [min(X),0]\n",
        "    # solve ODE\n",
        "    sol = np.zeros((T+1, 2))\n",
        "    sol[0] = np.array(z0)\n",
        "    for i in range(1,T+1):\n",
        "        # span for next time step\n",
        "        tspan = [t[i-1],t[i]]\n",
        "        # solve for next step\n",
        "        z = odeint(VW_model,z0,tspan,args=(Lambda_k, Mu_k, gammas, ExpoCDF))\n",
        "        # store solution for plotting\n",
        "        # if the virtual waiting time is less than 0, set it to 0, and set the cumulative death to the previous solution\n",
        "        if z[1][0] < 0:\n",
        "            z[1][0] = 0\n",
        "            z[1][1] = z[0][1]\n",
        "        \n",
        "        sol[i] = z[1]\n",
        "        # next initial condition\n",
        "        z0 = z[1]\n",
        "    #sol[:, 1] = mortality_model(sol[:, 0], t, ExpoCDF, gammas, arrivalRate, p_join)\n",
        "    return sol"
      ],
      "execution_count": 59,
      "outputs": []
    },
    {
      "cell_type": "markdown",
      "metadata": {
        "id": "z075HH3QqUm1"
      },
      "source": [
        "TODO:\n",
        "1. Rewrite code, integrate non stationary arrival time\n",
        "2. Formulate function to math expression"
      ]
    },
    {
      "cell_type": "markdown",
      "metadata": {
        "id": "iZj5eilMdtMu"
      },
      "source": [
        "$$\\lambda(t)=\n",
        "\\begin{cases}\n",
        "2 & \\text{if } 100 < t \\leq 200\\\\\n",
        "0.2 & \\text{otherwise}\\\\\n",
        "\\end{cases}$$\n",
        "Suppose the arrival rate $\\lambda(t)$ is non-stationary, and \n",
        "let interarrival times $A_1, A_2,...$ be i.i.d samples from a distribution $G$ with bounded rate $\\lambda(t)$, i.e. we can express G given $\\lambda(t)$.  \n",
        "Let $G_{\\tilde{\\lambda}}$ be the base distribution, which is the distribution $G$ with rate $\\tilde{\\lambda}=max_t \\lambda(t)$. If the arrival time of $n-1$ instance, $S_{n-1}$, is given, to generate interarrival time of $n$th instance using thinning method is as follows:  \n",
        "1. Let $t = S_{n-1}$ keep tracking of the current time\n",
        "2. Loop    \n",
        "(a) Generate a potential interarrival time $\\tilde{A}$ ~ $G_{\\tilde{\\lambda}}$ (e.g. using inverse method)  \n",
        "(b) Update $t = t + \\tilde{A}$  \n",
        "(c) Generate $U$ ~ $U(0,1)$  \n",
        "until $U \\leq \\lambda(t)/\\tilde{\\lambda}$\n",
        "3. The interarrival time of $n$th instance is $t - S_{n-1}$"
      ]
    },
    {
      "cell_type": "code",
      "metadata": {
        "id": "oM0HMIj3tAUo"
      },
      "source": [
        "class Exponential:\n",
        "    \n",
        "    def __init__(self, rate, Stream):\n",
        "        self.rate = rate\n",
        "        self.Stream = Stream\n",
        "    \n",
        "    def sample(self):\n",
        "        return SimRNG.Expon(1/self.rate, self.Stream)"
      ],
      "execution_count": 5,
      "outputs": []
    },
    {
      "cell_type": "markdown",
      "metadata": {
        "id": "j6N5vDW-sCeG"
      },
      "source": [
        "# Simulation"
      ]
    },
    {
      "cell_type": "code",
      "metadata": {
        "id": "PaxQhroRfWHc"
      },
      "source": [
        "def createConstantGenerator(constant, Stream):\n",
        "    '''\n",
        "    Create a constant generator, return the given constant and next stream to use\n",
        "    '''\n",
        "    def Generator(obj=None):\n",
        "        return constant\n",
        "    return Generator, Stream\n",
        "\n",
        "def createExpoGenerator(Mean, Stream):\n",
        "    '''\n",
        "    Create a Exp Generator, return a genetrtor and next stream to use\n",
        "    '''\n",
        "    def Generator(obj=None):\n",
        "        return SimRNG.Expon(Mean, Stream)\n",
        "    return Generator, Stream + 1 \n",
        "\n",
        "def createBaseExpoGenerator(Rate, Stream):\n",
        "    return Exponential(Rate, Stream), Stream + 1\n",
        "\n",
        "def createErlangGenerator(m, Mean, Stream):\n",
        "    '''\n",
        "    Create a normal distribution generator, return a genetrtor and next stream to use\n",
        "    '''\n",
        "    def Generator(obj=None):\n",
        "        return SimRNG.Erlang(m, Mean, Stream)\n",
        "    return Generator, Stream + 1\n",
        "\n",
        "def createNormalGenerator(Mean, Variance, Stream):\n",
        "    '''\n",
        "    Create a normal distribution generator, return a genetrtor and next stream to use\n",
        "    '''\n",
        "    def Generator(obj=None):\n",
        "        return SimRNG.Normal(Mean, Variance, Stream)\n",
        "    return Generator, Stream + 1 \n",
        "\n",
        "def createLognormal(MeanPrime, VariancePrime, Stream):\n",
        "    '''\n",
        "    Create a log-normal distribution generator, return a genetrtor and next stream to use\n",
        "    '''\n",
        "    def Generator(obj=None):\n",
        "        return SimRNG.Lognormal(MeanPrime, VariancePrime, Stream)\n",
        "    return Generator, Stream + 1\n",
        "\n",
        "def createRandom_integerGenetrator(prob_distrib, Stream):\n",
        "    '''\n",
        "    Create a random integer generator, return a genetrtor and next stream to use\n",
        "    '''\n",
        "    def Generator(obj=None):\n",
        "        return SimRNG.Random_integer(prob_distrib, Stream)\n",
        "    return Generator, Stream + 1\n",
        "\n",
        "def createHyoerExpGenerator(Stream):\n",
        "    def hyperExp(p, lambda1, lambda2):\n",
        "        U1 = SimRNG.Uniform(0,1, Stream)\n",
        "        U2 = SimRNG.Uniform(0,1, Stream+1)\n",
        "        if U1 <= p:\n",
        "            return (-1/lambda1) * np.log(U2)\n",
        "        return (-1/lambda2) * np.log(U2)\n",
        "    return hyperExp, Stream + 2"
      ],
      "execution_count": 6,
      "outputs": []
    },
    {
      "cell_type": "code",
      "metadata": {
        "id": "GwjBnFEBwSjO"
      },
      "source": [
        "def createNSAPInverseMethod(varA, base, arrivalRateInverse, Stream):\n",
        "    first = True\n",
        "    p = 0.5*(1+ np.sqrt((varA-1)/(varA+1)))\n",
        "    lambda1 = 2*p\n",
        "    lambda2 = 2*(1-p)\n",
        "    S_tilde = 0\n",
        "    S_prev = 0\n",
        "    def NSAP(t):\n",
        "        nonlocal S_tilde\n",
        "        nonlocal S_prev\n",
        "        nonlocal first\n",
        "        if first:\n",
        "            A_tilde = base(1/2, lambda1, lambda2)\n",
        "            first = False\n",
        "        else:\n",
        "            A_tilde = base(p, lambda1, lambda2)\n",
        "        S_tilde += A_tilde\n",
        "        \n",
        "        S = arrivalRateInverse(S_tilde)\n",
        "        if S == None:\n",
        "            return None\n",
        "        A = S - S_prev\n",
        "        S_prev = S\n",
        "        return A\n",
        "    return NSAP, Stream\n"
      ],
      "execution_count": 7,
      "outputs": []
    },
    {
      "cell_type": "code",
      "metadata": {
        "id": "7g_9w4Nz8aVl"
      },
      "source": [
        "def createNSAPthinningMethod(arrivalRate, base, Stream, T=float('inf')):\n",
        "    def thinningMethod(t):\n",
        "        S = t\n",
        "        potentialArrival = base.sample()\n",
        "        t += potentialArrival\n",
        "        U = SimRNG.Uniform(0, 1, Stream)\n",
        "        while t <= T and U > arrivalRate(t)/base.rate:\n",
        "            potentialArrival = base.sample()\n",
        "            U = SimRNG.Uniform(0, 1, Stream)\n",
        "            t += potentialArrival\n",
        "        if t > T:\n",
        "            return None\n",
        "        return t - S\n",
        "    return thinningMethod, Stream+1"
      ],
      "execution_count": 60,
      "outputs": []
    },
    {
      "cell_type": "code",
      "metadata": {
        "id": "kz9JxTsdhitD"
      },
      "source": [
        "import numpy as np\n",
        "import pylab as pl\n",
        "from matplotlib import collections  as mc\n",
        "def drawVirtalWait(arrivalTime, virtualWaits, jumpTime, ax):\n",
        "    lines = []\n",
        "    dashlines = []\n",
        "    prev = (arrivalTime[0], virtualWaits[0]+jumpTime[0])\n",
        "    prevA = 0\n",
        "    prevjump = jumpTime[0]\n",
        "    for A, Y, X in zip(arrivalTime[1:], virtualWaits[1:], jumpTime[1:]):\n",
        "        interA = A - prevA\n",
        "        if interA > prevjump:\n",
        "            lines.append([prev, (prevA+prevjump, 0)])\n",
        "            prev = (prevA+prevjump, 0)\n",
        "        lines.append([prev, (A, Y)])\n",
        "        jump = Y+X\n",
        "        prev = (A, jump)\n",
        "        dashlines.append([(A, Y), (A, jump)])\n",
        "        prevA = A\n",
        "        prevjump = jump\n",
        "\n",
        "    lc = mc.LineCollection(lines, linewidths=2)\n",
        "    dash = mc.LineCollection(dashlines, colors='red',linestyles='--', linewidths=2)\n",
        "    ax.add_collection(lc)\n",
        "    ax.add_collection(dash)\n",
        "    ax.margins(0.1)\n",
        "    ax.set_title(\"Virtual Waiting Time\")\n",
        "    ax.set_xlabel(\"Time t\")\n",
        "    ax.set_ylabel(\"W(t)\")\n",
        "\n",
        "def drawCumDeath(arrivalTime, cumdead, ax):\n",
        "    ax.plot(arrivalTime, cumdead)\n",
        "    ax.set_title(\"Death over arrival time\")\n",
        "    ax.set_xlabel(\"Arrival Time t\")\n",
        "    ax.set_ylabel(\"Number of Death\")\n",
        "    "
      ],
      "execution_count": 9,
      "outputs": []
    },
    {
      "cell_type": "markdown",
      "metadata": {
        "id": "-VuHFELYNmXp"
      },
      "source": [
        "For G/G/1 + G,\n",
        "let $\\{A_n|n=1,2,...\\}$ be a process of the interarrival times between customers (where A1 is the actual time of the first\n",
        "arrival). Similarly, let $\\{X_n|n=1,2,...\\}$ be a process of service times of successive customers, and let $\\{\\tilde{X}_n| n=1,2,...\\}$ be a process of the potential service time of successive customers. If the customer dies before the service, then the actual service time is 0. Also, let $\\{D_n|n=1,2,...\\}$ be a process of remaining life times of successive customers.Then if Y1,Y2, . . . are the successive virtual waiting times in queue (i.e., the time from customer arrival until service begins), a little thought reveals that\n",
        "$$Y_n = max(Y_{n-1}+X_{n-1}-A_n, 0)$$\n",
        "$$X_n = \\mathbb 1(Y_n\\le D_n) \\tilde{X}_n$$\n",
        "where we need to define $Y_0 = 0$ and $X_0 \\geq 0$ to make the recursion work. $X_0$ is the initial occupation time of the server.\n",
        "\n",
        "For G/G/s + G,\n",
        "let $X_n = [X_{n,1}, X_{n,2},...,X_{n,s}]$ be an array that tracks of the remaining occupation time for each server at the time when the nth customer just enters the service. \n",
        "$$Y_n = max(Y_{n-1}+\\min_{j=1,2,..s}(X_{n-1,j})-A_n, 0)$$\n",
        "$$X_{n,j} = \n",
        "\\begin{cases}\n",
        "\\mathbb 1(Y_n\\le D_n) \\tilde{X}_n & \\text{if } j=\\underset{j=1,2,..s}{\\operatorname{argmin}}(X_{n-1,j})\\text{ break ties arbitrarily}\\\\\n",
        "max(0, X_{n-1, j} - A_{n}) & \\text{otherwise}\\\\\n",
        "\\end{cases}$$\n",
        "where we need to define $Y_0 = 0, X_{0,j} \\geq 0 \\, \\forall j=1,2,...s$ the recursion still works. $X_{0,j}$ is the initial occupation time of server $j$.\n"
      ]
    },
    {
      "cell_type": "code",
      "metadata": {
        "id": "u0q8ouS9tnaz"
      },
      "source": [
        "def LindleyWithAbandon(Y, X, A, D, tildeX):\n",
        "    '''\n",
        "    Calculate virtual waiting time, remaining occupation time and determine the abandonment\n",
        "\n",
        "    Args:\n",
        "        Y: the virtual waiting time of the previous patient\n",
        "        X: the array of occupation times when the previous patient enters the service\n",
        "        A: the interaveral time of the current patient\n",
        "        D: the life remaining time of the current patient\n",
        "        tildeX: the potential service time of the current patient\n",
        "    \n",
        "    Return:\n",
        "    A tuple of (Y, X, abandon)\n",
        "        Y: the virtual waiting time of the current patient\n",
        "        X: the array of occupation times when the current patient enters the service\n",
        "        abandon: a boolean that determains if the current patient abandons the queue\n",
        "    '''\n",
        "    j = np.argmin(X)\n",
        "    Y = max(Y+X[j]-A, 0)\n",
        "    abandon = False\n",
        "    if Y > D:\n",
        "        tildeX = 0\n",
        "        abandon = True\n",
        "    X = np.maximum(X-A, 0)\n",
        "    X[j] = tildeX\n",
        "    return Y, X, abandon"
      ],
      "execution_count": 10,
      "outputs": []
    },
    {
      "cell_type": "code",
      "metadata": {
        "id": "48WGZE1I4kJR"
      },
      "source": [
        "# change class type and triage to distribution\n",
        "def createGenerators(overtriage, undertriage, Class1Prob, abandonMeans, serviceTimeMeans, stopTime, arrivalRateInverse=None, arrivalRate=None, maxRate=None,  method='inverse'):\n",
        "    def patientFn(t):\n",
        "        interArrivalTime = interArrivalTimeFn(t)\n",
        "        if interArrivalTime == None:\n",
        "            return None, None, None\n",
        "        patientClass = classFn()\n",
        "        lifeRemaining = abandonFns[patientClass-1]()\n",
        "        while triageFuns[patientClass-1]() != 1:\n",
        "            A = interArrivalTimeFn(t+interArrivalTime)\n",
        "            if A == None:\n",
        "                return None, None, None\n",
        "            interArrivalTime += A\n",
        "            patientClass = classFn()\n",
        "            lifeRemaining = abandonFns[patientClass-1]()\n",
        "        return interArrivalTime, lifeRemaining, patientClass\n",
        "    def serviceTimeFn(info):\n",
        "        return serviceTimeFns[info-1]()\n",
        "    Stream = 1\n",
        "    classFn, Stream = createRandom_integerGenetrator([Class1Prob,1], Stream)\n",
        "    class1TriageFn, Stream = createRandom_integerGenetrator([1-undertriage,1], Stream)\n",
        "    class2TriageFn, Stream = createRandom_integerGenetrator([overtriage,1], Stream)\n",
        "    triageFuns = [class1TriageFn, class2TriageFn]\n",
        "    abandonFns = []\n",
        "    for abandonMean in abandonMeans:\n",
        "        #abandonTimeFn, Stream = createConstantGenerator(abandonMean, Stream)\n",
        "        abandonTimeFn, Stream = createExpoGenerator(abandonMean, Stream)\n",
        "        abandonFns.append(abandonTimeFn)\n",
        "    if method =='inverse':\n",
        "        base, Stream = createHyoerExpGenerator(Stream)\n",
        "        interArrivalTimeFn, Stream = createNSAPInverseMethod(1, base, arrivalRateInverse, Stream)\n",
        "    elif method == 'thinning':\n",
        "        base = Exponential(maxRate, Stream)\n",
        "        interArrivalTimeFn, Stream = createNSAPthinningMethod(arrivalRate, base, Stream, stopTime)\n",
        "    #interArrivalTimeFn, Stream = createConstantGenerator(interArrivalTimeMean, Stream)\n",
        "    serviceTimeFns = []\n",
        "    for serviceTimeMean in serviceTimeMeans:\n",
        "        #abandonTimeFn, Stream = createConstantGenerator(serviceTimeMean, Stream)\n",
        "        serviceTimeMeanFn, Stream = createExpoGenerator(serviceTimeMean, Stream)\n",
        "        serviceTimeFns.append(serviceTimeMeanFn)\n",
        "    #serviceTimeFn, Stream = createConstantGenerator(serviceTimeMean, Stream)\n",
        "    return patientFn, serviceTimeFn"
      ],
      "execution_count": 56,
      "outputs": []
    },
    {
      "cell_type": "code",
      "metadata": {
        "id": "4js4wK_Q6Voz"
      },
      "source": [
        "#G/G/s + G\n",
        "def simulate(X, patientFn, serviceTimeFn, T):\n",
        "    clock = 0\n",
        "    Y = 0\n",
        "    X = np.array(X)\n",
        "    deadcount = 0\n",
        "    arrivalTime = [0]\n",
        "    virtualWaits = [0]\n",
        "    jumpTime = [np.min(X)]\n",
        "    cumdead = [0]\n",
        "    old_clock = 0\n",
        "    while clock < T:\n",
        "        A, D, C = patientFn(clock)\n",
        "        if A == None:\n",
        "            break\n",
        "        tildeX = serviceTimeFn(C)\n",
        "        Y, X, abandon = LindleyWithAbandon(Y, X, A, D, tildeX)\n",
        "        deadcount += abandon\n",
        "        old_clock = clock\n",
        "        clock += A\n",
        "        arrivalTime.append(clock)\n",
        "        virtualWaits.append(Y)\n",
        "        cumdead.append(deadcount)\n",
        "        jumpTime.append(np.min(X))\n",
        "    return arrivalTime, virtualWaits, jumpTime, cumdead"
      ],
      "execution_count": 12,
      "outputs": []
    },
    {
      "cell_type": "code",
      "metadata": {
        "id": "sHi_fMei2ZL2"
      },
      "source": [
        "#[0,1] 0.5 0, 1\n",
        "def findClosestArrivalTime(t, arrivalTime):\n",
        "    low = 0\n",
        "    high = len(arrivalTime) - 1\n",
        "    while low <= high:\n",
        "        mid = (low + high)//2\n",
        "        if arrivalTime[mid] < t:\n",
        "            low = mid + 1\n",
        "        elif arrivalTime[mid] > t:\n",
        "            high = mid - 1\n",
        "        else:\n",
        "            return mid, True\n",
        "    return high, False"
      ],
      "execution_count": 13,
      "outputs": []
    },
    {
      "cell_type": "code",
      "metadata": {
        "id": "BceZoLMRbAo9"
      },
      "source": [
        "def CreateVirtualWaitFn(arrivalTime, virtualWaits, jumpTime):\n",
        "    def VirtualWaitFn(t):\n",
        "        i, found = findClosestArrivalTime(t, arrivalTime)\n",
        "        if found:\n",
        "            return virtualWaits[i]\n",
        "        else:\n",
        "            return max(virtualWaits[i] + jumpTime[i] - t + arrivalTime[i], 0)\n",
        "    VirtualWaitFn = np.vectorize(VirtualWaitFn, otypes=[float])\n",
        "    return VirtualWaitFn"
      ],
      "execution_count": 14,
      "outputs": []
    },
    {
      "cell_type": "code",
      "metadata": {
        "id": "dLPepdMm2K5-"
      },
      "source": [
        "def CreateCumDeathFn(arrivalTime, cumdead):\n",
        "    def CumDeathFn(t):\n",
        "        i, found = findClosestArrivalTime(t, arrivalTime)\n",
        "        return cumdead[i]\n",
        "    CumDeathFn = np.vectorize(CumDeathFn, otypes=[float])\n",
        "    return CumDeathFn\n",
        "        "
      ],
      "execution_count": 15,
      "outputs": []
    },
    {
      "cell_type": "code",
      "metadata": {
        "id": "TcjBLyFi1_ic"
      },
      "source": [
        "overtriage = 0.5\n",
        "undertriage = 0\n",
        "Class1Prob = 0.5\n",
        "abandonMeans = [80, 120] \n",
        "serviceTimeMean = [1, 1]\n",
        "X = [0]\n",
        "T = 500"
      ],
      "execution_count": 64,
      "outputs": []
    },
    {
      "cell_type": "code",
      "metadata": {
        "colab": {
          "base_uri": "https://localhost:8080/",
          "height": 592
        },
        "id": "n1VV7vq_1bAy",
        "outputId": "e7ea2d9e-14fd-41d7-b703-b2a9bd162bc0"
      },
      "source": [
        "generatorsParams = {\"overtriage\": overtriage,\n",
        "                    \"undertriage\": undertriage, \n",
        "                    \"Class1Prob\": Class1Prob, \n",
        "                    \"abandonMeans\": abandonMeans, \n",
        "                    \"serviceTimeMeans\": serviceTimeMean,\n",
        "                    \"stopTime\": T,\n",
        "                    \"arrivalRateInverse\":concaveArrivalRateInverse, \n",
        "                    \"arrivalRate\": concaveArrivalRate,\n",
        "                    \"maxRate\": 4, \n",
        "                    \"method\": 'thinning'}\n",
        "patientFn, serviceTimeFn = createGenerators(**generatorsParams)\n",
        "t = np.linspace(0,T,T+1)\n",
        "expectW = np.zeros_like(t)\n",
        "expectD = np.zeros_like(t)\n",
        "fig, axs = plt.subplots(1,2,figsize=(20, 10))\n",
        "\n",
        "for i in range(10):\n",
        "    arrivalTime, virtualWaits, jumpTime, cumdead = simulate(X, patientFn, serviceTimeFn, T)\n",
        "    VirtualWaitFn = CreateVirtualWaitFn(arrivalTime, virtualWaits, jumpTime)\n",
        "    CumDeathFn = CreateCumDeathFn(arrivalTime, cumdead)\n",
        "    expectW += (VirtualWaitFn(t) - expectW)/(i+1)\n",
        "    expectD += (CumDeathFn(t) - expectD)/(i+1)\n",
        "    #drawCumDeath(arrivalTime, cumdead, axs[0])\n",
        "    #drawVirtalWait(arrivalTime, virtualWaits, jumpTime, axs[1])\n",
        "axs[0].plot(t, expectD, '--')\n",
        "axs[1].plot(t, expectW, '--')\n",
        "\n",
        "sol = mortality_mistrage_relation(overtriage, undertriage, Class1Prob, concaveArrivalRate, Mu_k, abandonMeans, X, T)\n",
        "axs[0].plot(t, sol[:, 1], '-')\n",
        "axs[1].plot(t, sol[:, 0], '-')\n",
        "\n",
        "plt.show()"
      ],
      "execution_count": 65,
      "outputs": [
        {
          "output_type": "display_data",
          "data": {
            "image/png": "[encoded data removed]",
            "text/plain": [
              "<Figure size 1440x720 with 2 Axes>"
            ]
          },
          "metadata": {
            "tags": [],
            "needs_background": "light"
          }
        }
      ]
    }
  ]
}